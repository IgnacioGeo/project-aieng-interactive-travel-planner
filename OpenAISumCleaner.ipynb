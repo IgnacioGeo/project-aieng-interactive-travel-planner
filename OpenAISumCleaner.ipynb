{
 "cells": [
  {
   "cell_type": "code",
   "execution_count": 1,
   "id": "0ea0e32d-ffd7-4696-8ddc-343721df5695",
   "metadata": {},
   "outputs": [
    {
     "name": "stdout",
     "output_type": "stream",
     "text": [
      "\n",
      " Original Summary (with Encoding Issues):\n",
      "\n",
      "TheBirth of the New World(Spanish:Nacimiento del Nuevo Mundo, colloquially known asLa Estatua de ColÃ³n,lit.Columbus' Statue) is a 360 foot (110 m) bronze sculpture located on the Atlantic coastline ofArecibo, Puerto Rico. When completed in 2016, it became the tallest sculpture inNorth America,[1](as well as the tallest not only in theUnited States, but in theWestern Hemispherein general) surpassing Mexico'sGuerrero Chimalli(which measures 200 feet or 61 meters in height including its base), and the fourth tallest worldwide, after theStatue of Unityin India (597 ft; 182 m), theSpring Temple Buddhain China (420 ft; 130 m), and theLaykyun Sekkyain Myanmar (380 ft; 120 m). After being imported to Puerto Rico, there were plans for it to be erected inCataÃ±o. After being moved toMayagÃ¼ezand facing further delays,Birth of the New Worldwas assembled at its current location.\n",
      " Originally designed byGeorgiansculptorZurab Tseretelias a monument to commemorate the 500th anniversary ofChristopher Columbus'sfirst voyage,Birth of the New Worldwas constructed in 1991. The statue prominently depicts Columbus controlling ananachronisticdepiction of a steering wheel, with a backdrop featuring theNiÃ±a,PintaandSanta MarÃ­atraversing the Atlantic Ocean.[2]Made of 2,750 bronze and steel pieces and weighing more than 1,300,000 pounds (650 short tons; 590 tonnes), the monument's 360 ft (110 m) height made it the tallest in theWestern Hemisphereduring the last decade of the 20th century, dwarfing theStatue of Liberty[3]and theMonumento a la Virgen de la Paz.\n",
      "\n",
      "\n",
      "Cleaned Summary (Corrected & Readable):\n",
      "The Birth of the New World (Spanish: Nacimiento del Nuevo Mundo, colloquially known as La Estatua de Colón, lit. Columbus' Statue) is a 360-foot (110 m) bronze sculpture located on the Atlantic coastline of Arecibo, Puerto Rico. When completed in 2016, it became the tallest sculpture in North America, as well as the tallest not only in the United States but in the Western Hemisphere in general, surpassing Mexico's Guerrero Chimalli (which measures 200 feet or 61 meters in height including its base), and the fourth tallest worldwide, after the Statue of Unity in India (597 ft; 182 m), the Spring Temple Buddha in China (420 ft; 130 m\n"
     ]
    }
   ],
   "source": [
    "from openai import OpenAI\n",
    "import os\n",
    "import ftfy  # text encoding issues\n",
    "from dotenv import load_dotenv, find_dotenv\n",
    "\n",
    "# Load the OpenAI API key from .env file\n",
    "_ = load_dotenv(find_dotenv())  # Locate and load .env\n",
    "OPENAI_API_KEY = os.getenv('OPENAI_API_KEY')\n",
    "\n",
    "# Initialize OpenAI Client\n",
    "client = OpenAI(api_key=OPENAI_API_KEY)\n",
    "\n",
    "# Function to fix text encoding issues before sending to OpenAI\n",
    "def preprocess_text(text):\n",
    "    return ftfy.fix_text(text)  # Automatically fix encoding issues\n",
    "\n",
    "# Function to determine max tokens dynamically\n",
    "def determine_max_tokens(summary):\n",
    "    token_count = len(summary.split())  # Approximate word count (1 word ≈ 1.3 tokens)\n",
    "    \n",
    "    if token_count <= 100:\n",
    "        return 100  # Keep short summaries as is\n",
    "    elif 100 < token_count <= 200:\n",
    "        return 200  # Allow medium-length summaries more space\n",
    "    else:\n",
    "        return 150  # Trim longer summaries but keep them readable\n",
    "\n",
    "# Function to clean a single summary using OpenAI\n",
    "def clean_summary_with_openai(summary):\n",
    "    # Step 1: Preprocess text before sending to OpenAI\n",
    "    fixed_summary = preprocess_text(summary)\n",
    "\n",
    "    # Step 2: Dynamically determine max_tokens\n",
    "    max_tokens = determine_max_tokens(fixed_summary)\n",
    "\n",
    "    prompt = f\"\"\"Fix any encoding issues and improve the readability of the following text:\n",
    "    \n",
    "    {fixed_summary}\n",
    "    \n",
    "    Ensure correct spacing, remove unnecessary symbols, and properly format all names, places, and characters.\"\"\"\n",
    "\n",
    "    try:\n",
    "        response = client.chat.completions.create(\n",
    "            model=\"gpt-3.5-turbo\",\n",
    "            messages=[\n",
    "                {\"role\": \"system\", \"content\": \"You are a helpful assistant that corrects text encoding errors and improves readability.\"},\n",
    "                {\"role\": \"user\", \"content\": prompt}\n",
    "            ],\n",
    "            max_tokens=max_tokens,\n",
    "            temperature=0.5  # Ensures factual accuracy\n",
    "        )\n",
    "        return response.choices[0].message.content.strip()\n",
    "    except Exception as e:\n",
    "        print(f\"⚠️ Error cleaning summary: {e}\")\n",
    "        return fixed_summary  # Return preprocessed version if API fails\n",
    "\n",
    "# Problematic summary from dataset\n",
    "test_summary = \"\"\"\n",
    "TheBirth of the New World(Spanish:Nacimiento del Nuevo Mundo, colloquially known asLa Estatua de ColÃ³n,lit.Columbus' Statue) is a 360 foot (110 m) bronze sculpture located on the Atlantic coastline ofArecibo, Puerto Rico. When completed in 2016, it became the tallest sculpture inNorth America,[1](as well as the tallest not only in theUnited States, but in theWestern Hemispherein general) surpassing Mexico'sGuerrero Chimalli(which measures 200 feet or 61 meters in height including its base), and the fourth tallest worldwide, after theStatue of Unityin India (597 ft; 182 m), theSpring Temple Buddhain China (420 ft; 130 m), and theLaykyun Sekkyain Myanmar (380 ft; 120 m). After being imported to Puerto Rico, there were plans for it to be erected inCataÃ±o. After being moved toMayagÃ¼ezand facing further delays,Birth of the New Worldwas assembled at its current location.\n",
    " Originally designed byGeorgiansculptorZurab Tseretelias a monument to commemorate the 500th anniversary ofChristopher Columbus'sfirst voyage,Birth of the New Worldwas constructed in 1991. The statue prominently depicts Columbus controlling ananachronisticdepiction of a steering wheel, with a backdrop featuring theNiÃ±a,PintaandSanta MarÃ­atraversing the Atlantic Ocean.[2]Made of 2,750 bronze and steel pieces and weighing more than 1,300,000 pounds (650 short tons; 590 tonnes), the monument's 360 ft (110 m) height made it the tallest in theWestern Hemisphereduring the last decade of the 20th century, dwarfing theStatue of Liberty[3]and theMonumento a la Virgen de la Paz.\n",
    "\"\"\"\n",
    "\n",
    "# Run the test\n",
    "print(\"\\n Original Summary (with Encoding Issues):\")\n",
    "print(test_summary)\n",
    "\n",
    "cleaned_summary = clean_summary_with_openai(test_summary)\n",
    "\n",
    "print(\"\\nCleaned Summary (Corrected & Readable):\")\n",
    "print(cleaned_summary)\n"
   ]
  },
  {
   "cell_type": "code",
   "execution_count": 1,
   "id": "368c0d18-08f1-4c44-9ba3-3143d5318be3",
   "metadata": {},
   "outputs": [],
   "source": [
    "from openai import OpenAI\n",
    "import os\n",
    "import pandas as pd\n",
    "import ftfy  \n",
    "from dotenv import load_dotenv, find_dotenv\n",
    "from tqdm import tqdm \n",
    "\n",
    "_ = load_dotenv(find_dotenv()) \n",
    "OPENAI_API_KEY = os.getenv('OPENAI_API_KEY')\n",
    "\n",
    "client = OpenAI(api_key=OPENAI_API_KEY)\n",
    "\n",
    "# Function to fix text encoding issues before sending to OpenAI\n",
    "def preprocess_text(text):\n",
    "    return ftfy.fix_text(text)  # Automatically fix encoding issues\n",
    "\n",
    "# Function to determine max tokens dynamically\n",
    "def determine_max_tokens(summary):\n",
    "    token_count = len(summary.split())  # Approximate word count (1 word ≈ 1.3 tokens)\n",
    "    \n",
    "    if token_count <= 100:\n",
    "        return 100  # Keep short summaries \n",
    "    elif 100 < token_count <= 200:\n",
    "        return 200  # Allow medium-length summaries \n",
    "    else:\n",
    "        return 150  # Trim longer summaries but keep them readable\n",
    "\n",
    "# Function to clean a single summary using OpenAI\n",
    "def clean_summary_with_openai(summary):\n",
    "    # Skip empty summaries\n",
    "    if not isinstance(summary, str) or summary.strip() == \"\":\n",
    "        return \"\"\n",
    "\n",
    "    # Step 1: Preprocess text before sending to OpenAI\n",
    "    fixed_summary = preprocess_text(summary)\n",
    "\n",
    "    # Step 2: Dynamically determine max_tokens\n",
    "    max_tokens = determine_max_tokens(fixed_summary)\n",
    "\n",
    "    prompt = f\"\"\"Fix any encoding issues and improve the readability of the following text:\n",
    "    \n",
    "    {fixed_summary}\n",
    "    \n",
    "    Ensure correct spacing, remove unnecessary symbols, and properly format all names, places, and characters.\"\"\"\n",
    "\n",
    "    try:\n",
    "        response = client.chat.completions.create(\n",
    "            model=\"gpt-3.5-turbo\",\n",
    "            messages=[\n",
    "                {\"role\": \"system\", \"content\": \"You are a helpful assistant that corrects text encoding errors and improves readability.\"},\n",
    "                {\"role\": \"user\", \"content\": prompt}\n",
    "            ],\n",
    "            max_tokens=max_tokens,\n",
    "            temperature=0.5  # Ensures factual accuracy\n",
    "        )\n",
    "        return response.choices[0].message.content.strip()\n",
    "    except Exception as e:\n",
    "        print(f\"Error cleaning summary: {e}\")\n",
    "        return fixed_summary  # Return preprocessed version if API fails\n"
   ]
  },
  {
   "cell_type": "code",
   "execution_count": 5,
   "id": "0863e635-2e42-42ea-a8b8-cf61aa8ed3bf",
   "metadata": {},
   "outputs": [],
   "source": [
    "# Load the CSV file\n",
    "file_path = \"C:/Users/Ignacio/IronHackCodes/gitHStuff/FinalProj/processed_landmarks_final.csv\"  # Ensure this is the correct path\n",
    "df_landmarks = pd.read_csv(file_path)"
   ]
  },
  {
   "cell_type": "code",
   "execution_count": 7,
   "id": "4182453b-c387-4e9e-8653-f64c5f566ef6",
   "metadata": {},
   "outputs": [
    {
     "name": "stderr",
     "output_type": "stream",
     "text": [
      "Processing Summaries: 100%|██████████| 520/520 [18:32<00:00,  2.14s/it]\n"
     ]
    }
   ],
   "source": [
    "# Apply the cleaning function to all summaries with tqdm for progress tracking\n",
    "tqdm.pandas(desc=\"Processing Summaries\")\n",
    "df_landmarks[\"Cleaned Summary\"] = df_landmarks[\"Summary\"].progress_apply(clean_summary_with_openai)"
   ]
  },
  {
   "cell_type": "code",
   "execution_count": 9,
   "id": "0ca039dc-b684-451d-9017-497450560db5",
   "metadata": {},
   "outputs": [
    {
     "name": "stdout",
     "output_type": "stream",
     "text": [
      "Cleaning completed! Cleaned CSV saved at: processed_landmarks_final_cleaned.csv\n"
     ]
    }
   ],
   "source": [
    "# Save the cleaned data back to a new CSV file\n",
    "cleaned_file_path = \"processed_landmarks_final_cleaned.csv\"\n",
    "df_landmarks.to_csv(cleaned_file_path, index=False)\n",
    "print(f\"Cleaning completed! Cleaned CSV saved at: {cleaned_file_path}\")"
   ]
  },
  {
   "cell_type": "code",
   "execution_count": null,
   "id": "5a0a78bb-1690-43f5-948a-3415c102f9d5",
   "metadata": {},
   "outputs": [],
   "source": []
  }
 ],
 "metadata": {
  "kernelspec": {
   "display_name": "Python 3 (ipykernel)",
   "language": "python",
   "name": "python3"
  },
  "language_info": {
   "codemirror_mode": {
    "name": "ipython",
    "version": 3
   },
   "file_extension": ".py",
   "mimetype": "text/x-python",
   "name": "python",
   "nbconvert_exporter": "python",
   "pygments_lexer": "ipython3",
   "version": "3.12.7"
  }
 },
 "nbformat": 4,
 "nbformat_minor": 5
}
